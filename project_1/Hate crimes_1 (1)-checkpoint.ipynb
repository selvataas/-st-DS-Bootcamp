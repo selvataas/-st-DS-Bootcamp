{
 "cells": [
  {
   "cell_type": "code",
   "execution_count": 3,
   "id": "f4d3532e",
   "metadata": {},
   "outputs": [],
   "source": [
    "import pandas as pd\n",
    "import numpy as np\n",
    "import matplotlib.pyplot as plt"
   ]
  },
  {
   "cell_type": "code",
   "execution_count": 4,
   "id": "8391ee87",
   "metadata": {},
   "outputs": [],
   "source": [
    "crime=pd.read_csv(\"NYPD_Hate_Crimes.csv\")"
   ]
  },
  {
   "cell_type": "code",
   "execution_count": 5,
   "id": "3da5bfc4",
   "metadata": {},
   "outputs": [
    {
     "data": {
      "text/html": [
       "<div>\n",
       "<style scoped>\n",
       "    .dataframe tbody tr th:only-of-type {\n",
       "        vertical-align: middle;\n",
       "    }\n",
       "\n",
       "    .dataframe tbody tr th {\n",
       "        vertical-align: top;\n",
       "    }\n",
       "\n",
       "    .dataframe thead th {\n",
       "        text-align: right;\n",
       "    }\n",
       "</style>\n",
       "<table border=\"1\" class=\"dataframe\">\n",
       "  <thead>\n",
       "    <tr style=\"text-align: right;\">\n",
       "      <th></th>\n",
       "      <th>Full_Complaint_ID</th>\n",
       "      <th>Complaint_Year_Number</th>\n",
       "      <th>Month_Number</th>\n",
       "      <th>Record_Create Date</th>\n",
       "      <th>Complaint_Precinct_Code</th>\n",
       "      <th>Patrol_Borough_Name</th>\n",
       "      <th>County</th>\n",
       "      <th>Law_Code_Category_Description</th>\n",
       "      <th>Offense_Description</th>\n",
       "      <th>PD_Code_Description</th>\n",
       "      <th>Bias_Motive_Description</th>\n",
       "      <th>Offense_Category</th>\n",
       "      <th>Arrest_Rate</th>\n",
       "      <th>Arrest_Id</th>\n",
       "    </tr>\n",
       "  </thead>\n",
       "  <tbody>\n",
       "    <tr>\n",
       "      <th>0</th>\n",
       "      <td>201904612204817,2019,2,02/08/2019,46,PATROL BO...</td>\n",
       "      <td>NaN</td>\n",
       "      <td>NaN</td>\n",
       "      <td>NaN</td>\n",
       "      <td>NaN</td>\n",
       "      <td>NaN</td>\n",
       "      <td>NaN</td>\n",
       "      <td>NaN</td>\n",
       "      <td>NaN</td>\n",
       "      <td>NaN</td>\n",
       "      <td>NaN</td>\n",
       "      <td>NaN</td>\n",
       "      <td>NaN</td>\n",
       "      <td>NaN</td>\n",
       "    </tr>\n",
       "    <tr>\n",
       "      <th>1</th>\n",
       "      <td>201904812229517</td>\n",
       "      <td>2019.0</td>\n",
       "      <td>3.0</td>\n",
       "      <td>03/09/2019</td>\n",
       "      <td>48.0</td>\n",
       "      <td>PATROL BORO BRONX</td>\n",
       "      <td>BRONX</td>\n",
       "      <td>MISDEMEANOR</td>\n",
       "      <td>ASSAULT 3 &amp; RELATED OFFENSES</td>\n",
       "      <td>ASSAULT 3</td>\n",
       "      <td>ANTI-WHITE</td>\n",
       "      <td>Race/Color</td>\n",
       "      <td>03/09/2019</td>\n",
       "      <td>B31682790</td>\n",
       "    </tr>\n",
       "    <tr>\n",
       "      <th>2</th>\n",
       "      <td>201904812226617</td>\n",
       "      <td>2019.0</td>\n",
       "      <td>3.0</td>\n",
       "      <td>03/08/2019</td>\n",
       "      <td>48.0</td>\n",
       "      <td>PATROL BORO BRONX</td>\n",
       "      <td>BRONX</td>\n",
       "      <td>MISDEMEANOR</td>\n",
       "      <td>ASSAULT 3 &amp; RELATED OFFENSES</td>\n",
       "      <td>ASSAULT 3</td>\n",
       "      <td>ANTI-WHITE</td>\n",
       "      <td>Race/Color</td>\n",
       "      <td>03/09/2019</td>\n",
       "      <td>B31682806</td>\n",
       "    </tr>\n",
       "    <tr>\n",
       "      <th>3</th>\n",
       "      <td>201904812231317</td>\n",
       "      <td>2019.0</td>\n",
       "      <td>3.0</td>\n",
       "      <td>03/10/2019</td>\n",
       "      <td>48.0</td>\n",
       "      <td>PATROL BORO BRONX</td>\n",
       "      <td>BRONX</td>\n",
       "      <td>MISDEMEANOR</td>\n",
       "      <td>ASSAULT 3 &amp; RELATED OFFENSES</td>\n",
       "      <td>ASSAULT 3</td>\n",
       "      <td>ANTI-WHITE</td>\n",
       "      <td>Race/Color</td>\n",
       "      <td>03/09/2019</td>\n",
       "      <td>B31682806</td>\n",
       "    </tr>\n",
       "    <tr>\n",
       "      <th>4</th>\n",
       "      <td>201904212405517,2019,5,05/11/2019,42,PATROL BO...</td>\n",
       "      <td>NaN</td>\n",
       "      <td>NaN</td>\n",
       "      <td>NaN</td>\n",
       "      <td>NaN</td>\n",
       "      <td>NaN</td>\n",
       "      <td>NaN</td>\n",
       "      <td>NaN</td>\n",
       "      <td>NaN</td>\n",
       "      <td>NaN</td>\n",
       "      <td>NaN</td>\n",
       "      <td>NaN</td>\n",
       "      <td>NaN</td>\n",
       "      <td>NaN</td>\n",
       "    </tr>\n",
       "  </tbody>\n",
       "</table>\n",
       "</div>"
      ],
      "text/plain": [
       "                                   Full_Complaint_ID  Complaint_Year_Number  \\\n",
       "0  201904612204817,2019,2,02/08/2019,46,PATROL BO...                    NaN   \n",
       "1                                    201904812229517                 2019.0   \n",
       "2                                    201904812226617                 2019.0   \n",
       "3                                    201904812231317                 2019.0   \n",
       "4  201904212405517,2019,5,05/11/2019,42,PATROL BO...                    NaN   \n",
       "\n",
       "   Month_Number Record_Create Date  Complaint_Precinct_Code  \\\n",
       "0           NaN                NaN                      NaN   \n",
       "1           3.0         03/09/2019                     48.0   \n",
       "2           3.0         03/08/2019                     48.0   \n",
       "3           3.0         03/10/2019                     48.0   \n",
       "4           NaN                NaN                      NaN   \n",
       "\n",
       "  Patrol_Borough_Name County Law_Code_Category_Description  \\\n",
       "0                 NaN    NaN                           NaN   \n",
       "1   PATROL BORO BRONX  BRONX                   MISDEMEANOR   \n",
       "2   PATROL BORO BRONX  BRONX                   MISDEMEANOR   \n",
       "3   PATROL BORO BRONX  BRONX                   MISDEMEANOR   \n",
       "4                 NaN    NaN                           NaN   \n",
       "\n",
       "            Offense_Description PD_Code_Description Bias_Motive_Description  \\\n",
       "0                           NaN                 NaN                     NaN   \n",
       "1  ASSAULT 3 & RELATED OFFENSES           ASSAULT 3              ANTI-WHITE   \n",
       "2  ASSAULT 3 & RELATED OFFENSES           ASSAULT 3              ANTI-WHITE   \n",
       "3  ASSAULT 3 & RELATED OFFENSES           ASSAULT 3              ANTI-WHITE   \n",
       "4                           NaN                 NaN                     NaN   \n",
       "\n",
       "  Offense_Category Arrest_Rate  Arrest_Id  \n",
       "0              NaN         NaN        NaN  \n",
       "1       Race/Color  03/09/2019  B31682790  \n",
       "2       Race/Color  03/09/2019  B31682806  \n",
       "3       Race/Color  03/09/2019  B31682806  \n",
       "4              NaN         NaN        NaN  "
      ]
     },
     "execution_count": 5,
     "metadata": {},
     "output_type": "execute_result"
    }
   ],
   "source": [
    "crime.head()"
   ]
  },
  {
   "cell_type": "code",
   "execution_count": 6,
   "id": "b466258c",
   "metadata": {},
   "outputs": [
    {
     "data": {
      "text/plain": [
       "(1296, 14)"
      ]
     },
     "execution_count": 6,
     "metadata": {},
     "output_type": "execute_result"
    }
   ],
   "source": [
    "crime.shape"
   ]
  },
  {
   "cell_type": "code",
   "execution_count": 7,
   "id": "e54660fe",
   "metadata": {},
   "outputs": [
    {
     "name": "stdout",
     "output_type": "stream",
     "text": [
      "<class 'pandas.core.frame.DataFrame'>\n",
      "RangeIndex: 1296 entries, 0 to 1295\n",
      "Data columns (total 14 columns):\n",
      " #   Column                         Non-Null Count  Dtype  \n",
      "---  ------                         --------------  -----  \n",
      " 0   Full_Complaint_ID              1296 non-null   object \n",
      " 1   Complaint_Year_Number          711 non-null    float64\n",
      " 2   Month_Number                   711 non-null    float64\n",
      " 3   Record_Create Date             711 non-null    object \n",
      " 4   Complaint_Precinct_Code        711 non-null    float64\n",
      " 5   Patrol_Borough_Name            711 non-null    object \n",
      " 6   County                         711 non-null    object \n",
      " 7   Law_Code_Category_Description  711 non-null    object \n",
      " 8   Offense_Description            711 non-null    object \n",
      " 9   PD_Code_Description            711 non-null    object \n",
      " 10  Bias_Motive_Description        711 non-null    object \n",
      " 11  Offense_Category               711 non-null    object \n",
      " 12  Arrest_Rate                    216 non-null    object \n",
      " 13  Arrest_Id                      216 non-null    object \n",
      "dtypes: float64(3), object(11)\n",
      "memory usage: 141.9+ KB\n"
     ]
    }
   ],
   "source": [
    "crime.info()"
   ]
  },
  {
   "cell_type": "code",
   "execution_count": 8,
   "id": "9b310a00",
   "metadata": {},
   "outputs": [
    {
     "data": {
      "text/plain": [
       "count          711\n",
       "unique           5\n",
       "top       NEW YORK\n",
       "freq           266\n",
       "Name: County, dtype: object"
      ]
     },
     "execution_count": 8,
     "metadata": {},
     "output_type": "execute_result"
    }
   ],
   "source": [
    "crime.County.describe()"
   ]
  },
  {
   "cell_type": "code",
   "execution_count": 9,
   "id": "897358f9",
   "metadata": {},
   "outputs": [
    {
     "data": {
      "text/plain": [
       "NEW YORK    266\n",
       "KINGS       254\n",
       "QUEENS      125\n",
       "BRONX        45\n",
       "RICHMOND     21\n",
       "Name: County, dtype: int64"
      ]
     },
     "execution_count": 9,
     "metadata": {},
     "output_type": "execute_result"
    }
   ],
   "source": [
    "crime.County.value_counts()"
   ]
  },
  {
   "cell_type": "code",
   "execution_count": 10,
   "id": "09238911",
   "metadata": {},
   "outputs": [
    {
     "data": {
      "text/plain": [
       "Religion/Religious Practice           393\n",
       "Race/Color                            170\n",
       "Sexual Orientation                     89\n",
       "Gender                                 31\n",
       "Ethnicity/National Origin/Ancestry     22\n",
       "Unclassified                            5\n",
       "Disability                              1\n",
       "Name: Offense_Category, dtype: int64"
      ]
     },
     "execution_count": 10,
     "metadata": {},
     "output_type": "execute_result"
    }
   ],
   "source": [
    "crime . Offense_Category . value_counts()"
   ]
  },
  {
   "cell_type": "code",
   "execution_count": 14,
   "id": "c20125ad",
   "metadata": {},
   "outputs": [
    {
     "data": {
      "text/html": [
       "<div>\n",
       "<style scoped>\n",
       "    .dataframe tbody tr th:only-of-type {\n",
       "        vertical-align: middle;\n",
       "    }\n",
       "\n",
       "    .dataframe tbody tr th {\n",
       "        vertical-align: top;\n",
       "    }\n",
       "\n",
       "    .dataframe thead th {\n",
       "        text-align: right;\n",
       "    }\n",
       "</style>\n",
       "<table border=\"1\" class=\"dataframe\">\n",
       "  <thead>\n",
       "    <tr style=\"text-align: right;\">\n",
       "      <th></th>\n",
       "      <th></th>\n",
       "      <th>County</th>\n",
       "    </tr>\n",
       "    <tr>\n",
       "      <th>County</th>\n",
       "      <th>Offense_Category</th>\n",
       "      <th></th>\n",
       "    </tr>\n",
       "  </thead>\n",
       "  <tbody>\n",
       "    <tr>\n",
       "      <th rowspan=\"5\" valign=\"top\">BRONX</th>\n",
       "      <th>Ethnicity/National Origin/Ancestry</th>\n",
       "      <td>2</td>\n",
       "    </tr>\n",
       "    <tr>\n",
       "      <th>Gender</th>\n",
       "      <td>1</td>\n",
       "    </tr>\n",
       "    <tr>\n",
       "      <th>Race/Color</th>\n",
       "      <td>13</td>\n",
       "    </tr>\n",
       "    <tr>\n",
       "      <th>Religion/Religious Practice</th>\n",
       "      <td>24</td>\n",
       "    </tr>\n",
       "    <tr>\n",
       "      <th>Sexual Orientation</th>\n",
       "      <td>5</td>\n",
       "    </tr>\n",
       "    <tr>\n",
       "      <th rowspan=\"6\" valign=\"top\">KINGS</th>\n",
       "      <th>Ethnicity/National Origin/Ancestry</th>\n",
       "      <td>7</td>\n",
       "    </tr>\n",
       "    <tr>\n",
       "      <th>Gender</th>\n",
       "      <td>18</td>\n",
       "    </tr>\n",
       "    <tr>\n",
       "      <th>Race/Color</th>\n",
       "      <td>35</td>\n",
       "    </tr>\n",
       "    <tr>\n",
       "      <th>Religion/Religious Practice</th>\n",
       "      <td>172</td>\n",
       "    </tr>\n",
       "    <tr>\n",
       "      <th>Sexual Orientation</th>\n",
       "      <td>21</td>\n",
       "    </tr>\n",
       "    <tr>\n",
       "      <th>Unclassified</th>\n",
       "      <td>1</td>\n",
       "    </tr>\n",
       "    <tr>\n",
       "      <th rowspan=\"7\" valign=\"top\">NEW YORK</th>\n",
       "      <th>Disability</th>\n",
       "      <td>1</td>\n",
       "    </tr>\n",
       "    <tr>\n",
       "      <th>Ethnicity/National Origin/Ancestry</th>\n",
       "      <td>10</td>\n",
       "    </tr>\n",
       "    <tr>\n",
       "      <th>Gender</th>\n",
       "      <td>3</td>\n",
       "    </tr>\n",
       "    <tr>\n",
       "      <th>Race/Color</th>\n",
       "      <td>89</td>\n",
       "    </tr>\n",
       "    <tr>\n",
       "      <th>Religion/Religious Practice</th>\n",
       "      <td>114</td>\n",
       "    </tr>\n",
       "    <tr>\n",
       "      <th>Sexual Orientation</th>\n",
       "      <td>46</td>\n",
       "    </tr>\n",
       "    <tr>\n",
       "      <th>Unclassified</th>\n",
       "      <td>3</td>\n",
       "    </tr>\n",
       "    <tr>\n",
       "      <th rowspan=\"5\" valign=\"top\">QUEENS</th>\n",
       "      <th>Ethnicity/National Origin/Ancestry</th>\n",
       "      <td>3</td>\n",
       "    </tr>\n",
       "    <tr>\n",
       "      <th>Gender</th>\n",
       "      <td>9</td>\n",
       "    </tr>\n",
       "    <tr>\n",
       "      <th>Race/Color</th>\n",
       "      <td>26</td>\n",
       "    </tr>\n",
       "    <tr>\n",
       "      <th>Religion/Religious Practice</th>\n",
       "      <td>72</td>\n",
       "    </tr>\n",
       "    <tr>\n",
       "      <th>Sexual Orientation</th>\n",
       "      <td>15</td>\n",
       "    </tr>\n",
       "    <tr>\n",
       "      <th rowspan=\"4\" valign=\"top\">RICHMOND</th>\n",
       "      <th>Race/Color</th>\n",
       "      <td>7</td>\n",
       "    </tr>\n",
       "    <tr>\n",
       "      <th>Religion/Religious Practice</th>\n",
       "      <td>11</td>\n",
       "    </tr>\n",
       "    <tr>\n",
       "      <th>Sexual Orientation</th>\n",
       "      <td>2</td>\n",
       "    </tr>\n",
       "    <tr>\n",
       "      <th>Unclassified</th>\n",
       "      <td>1</td>\n",
       "    </tr>\n",
       "  </tbody>\n",
       "</table>\n",
       "</div>"
      ],
      "text/plain": [
       "                                             County\n",
       "County   Offense_Category                          \n",
       "BRONX    Ethnicity/National Origin/Ancestry       2\n",
       "         Gender                                   1\n",
       "         Race/Color                              13\n",
       "         Religion/Religious Practice             24\n",
       "         Sexual Orientation                       5\n",
       "KINGS    Ethnicity/National Origin/Ancestry       7\n",
       "         Gender                                  18\n",
       "         Race/Color                              35\n",
       "         Religion/Religious Practice            172\n",
       "         Sexual Orientation                      21\n",
       "         Unclassified                             1\n",
       "NEW YORK Disability                               1\n",
       "         Ethnicity/National Origin/Ancestry      10\n",
       "         Gender                                   3\n",
       "         Race/Color                              89\n",
       "         Religion/Religious Practice            114\n",
       "         Sexual Orientation                      46\n",
       "         Unclassified                             3\n",
       "QUEENS   Ethnicity/National Origin/Ancestry       3\n",
       "         Gender                                   9\n",
       "         Race/Color                              26\n",
       "         Religion/Religious Practice             72\n",
       "         Sexual Orientation                      15\n",
       "RICHMOND Race/Color                               7\n",
       "         Religion/Religious Practice             11\n",
       "         Sexual Orientation                       2\n",
       "         Unclassified                             1"
      ]
     },
     "execution_count": 14,
     "metadata": {},
     "output_type": "execute_result"
    }
   ],
   "source": [
    "crm=pd.DataFrame(crime.groupby(['County','Offense_Category'])['County'].count())\n",
    "crm"
   ]
  },
  {
   "cell_type": "code",
   "execution_count": 12,
   "id": "594cdc94",
   "metadata": {},
   "outputs": [
    {
     "data": {
      "text/plain": [
       "Complaint_Year_Number  County  \n",
       "2019.0                 BRONX        14\n",
       "                       KINGS       104\n",
       "                       NEW YORK     70\n",
       "                       QUEENS       40\n",
       "                       RICHMOND      1\n",
       "2020.0                 BRONX        12\n",
       "                       KINGS        69\n",
       "                       NEW YORK     45\n",
       "                       QUEENS       21\n",
       "                       RICHMOND     11\n",
       "2021.0                 BRONX        19\n",
       "                       KINGS        81\n",
       "                       NEW YORK    151\n",
       "                       QUEENS       64\n",
       "                       RICHMOND      9\n",
       "Name: County, dtype: int64"
      ]
     },
     "execution_count": 12,
     "metadata": {},
     "output_type": "execute_result"
    }
   ],
   "source": [
    "crime.groupby([\"Complaint_Year_Number\",\"County\"])['County'].count()"
   ]
  },
  {
   "cell_type": "code",
   "execution_count": 82,
   "id": "7959f9a7",
   "metadata": {},
   "outputs": [],
   "source": [
    "value_year=pd.DataFrame(crime.Complaint_Year_Number.value_counts())"
   ]
  },
  {
   "cell_type": "code",
   "execution_count": 83,
   "id": "9ddbb5b2",
   "metadata": {},
   "outputs": [
    {
     "data": {
      "text/html": [
       "<div>\n",
       "<style scoped>\n",
       "    .dataframe tbody tr th:only-of-type {\n",
       "        vertical-align: middle;\n",
       "    }\n",
       "\n",
       "    .dataframe tbody tr th {\n",
       "        vertical-align: top;\n",
       "    }\n",
       "\n",
       "    .dataframe thead th {\n",
       "        text-align: right;\n",
       "    }\n",
       "</style>\n",
       "<table border=\"1\" class=\"dataframe\">\n",
       "  <thead>\n",
       "    <tr style=\"text-align: right;\">\n",
       "      <th></th>\n",
       "      <th>Complaint_Year_Number</th>\n",
       "    </tr>\n",
       "  </thead>\n",
       "  <tbody>\n",
       "    <tr>\n",
       "      <th>2021.0</th>\n",
       "      <td>324</td>\n",
       "    </tr>\n",
       "    <tr>\n",
       "      <th>2019.0</th>\n",
       "      <td>229</td>\n",
       "    </tr>\n",
       "    <tr>\n",
       "      <th>2020.0</th>\n",
       "      <td>158</td>\n",
       "    </tr>\n",
       "  </tbody>\n",
       "</table>\n",
       "</div>"
      ],
      "text/plain": [
       "        Complaint_Year_Number\n",
       "2021.0                    324\n",
       "2019.0                    229\n",
       "2020.0                    158"
      ]
     },
     "execution_count": 83,
     "metadata": {},
     "output_type": "execute_result"
    }
   ],
   "source": [
    "value_year"
   ]
  },
  {
   "cell_type": "code",
   "execution_count": 41,
   "id": "b35af04c",
   "metadata": {},
   "outputs": [],
   "source": [
    "value_country=pd.DataFrame(crime.County.value_counts())"
   ]
  },
  {
   "cell_type": "code",
   "execution_count": 42,
   "id": "7c1516a7",
   "metadata": {},
   "outputs": [
    {
     "data": {
      "text/html": [
       "<div>\n",
       "<style scoped>\n",
       "    .dataframe tbody tr th:only-of-type {\n",
       "        vertical-align: middle;\n",
       "    }\n",
       "\n",
       "    .dataframe tbody tr th {\n",
       "        vertical-align: top;\n",
       "    }\n",
       "\n",
       "    .dataframe thead th {\n",
       "        text-align: right;\n",
       "    }\n",
       "</style>\n",
       "<table border=\"1\" class=\"dataframe\">\n",
       "  <thead>\n",
       "    <tr style=\"text-align: right;\">\n",
       "      <th></th>\n",
       "      <th>County</th>\n",
       "    </tr>\n",
       "  </thead>\n",
       "  <tbody>\n",
       "    <tr>\n",
       "      <th>NEW YORK</th>\n",
       "      <td>266</td>\n",
       "    </tr>\n",
       "    <tr>\n",
       "      <th>KINGS</th>\n",
       "      <td>254</td>\n",
       "    </tr>\n",
       "    <tr>\n",
       "      <th>QUEENS</th>\n",
       "      <td>125</td>\n",
       "    </tr>\n",
       "    <tr>\n",
       "      <th>BRONX</th>\n",
       "      <td>45</td>\n",
       "    </tr>\n",
       "    <tr>\n",
       "      <th>RICHMOND</th>\n",
       "      <td>21</td>\n",
       "    </tr>\n",
       "  </tbody>\n",
       "</table>\n",
       "</div>"
      ],
      "text/plain": [
       "          County\n",
       "NEW YORK     266\n",
       "KINGS        254\n",
       "QUEENS       125\n",
       "BRONX         45\n",
       "RICHMOND      21"
      ]
     },
     "execution_count": 42,
     "metadata": {},
     "output_type": "execute_result"
    }
   ],
   "source": [
    "value_country"
   ]
  },
  {
   "cell_type": "code",
   "execution_count": 70,
   "id": "3765ab74",
   "metadata": {},
   "outputs": [
    {
     "data": {
      "text/plain": [
       "<BarContainer object of 5 artists>"
      ]
     },
     "execution_count": 70,
     "metadata": {},
     "output_type": "execute_result"
    },
    {
     "data": {
      "image/png": "[encoded data removed]",
      "text/plain": [
       "<Figure size 432x288 with 1 Axes>"
      ]
     },
     "metadata": {
      "needs_background": "light"
     },
     "output_type": "display_data"
    }
   ],
   "source": [
    "plt.bar(value_country.index, value_country.County, color=[\"midnightblue\", \"mediumblue\", \"royalblue\", \"cornflowerblue\",\"lightsteelblue\"])"
   ]
  },
  {
   "cell_type": "code",
   "execution_count": 58,
   "id": "7eefd1cf",
   "metadata": {},
   "outputs": [],
   "source": [
    "value_category=pd.DataFrame(crime.Offense_Category.value_counts())"
   ]
  },
  {
   "cell_type": "code",
   "execution_count": 59,
   "id": "61d9efbd",
   "metadata": {},
   "outputs": [
    {
     "data": {
      "text/html": [
       "<div>\n",
       "<style scoped>\n",
       "    .dataframe tbody tr th:only-of-type {\n",
       "        vertical-align: middle;\n",
       "    }\n",
       "\n",
       "    .dataframe tbody tr th {\n",
       "        vertical-align: top;\n",
       "    }\n",
       "\n",
       "    .dataframe thead th {\n",
       "        text-align: right;\n",
       "    }\n",
       "</style>\n",
       "<table border=\"1\" class=\"dataframe\">\n",
       "  <thead>\n",
       "    <tr style=\"text-align: right;\">\n",
       "      <th></th>\n",
       "      <th>Offense_Category</th>\n",
       "    </tr>\n",
       "  </thead>\n",
       "  <tbody>\n",
       "    <tr>\n",
       "      <th>Religion/Religious Practice</th>\n",
       "      <td>393</td>\n",
       "    </tr>\n",
       "    <tr>\n",
       "      <th>Race/Color</th>\n",
       "      <td>170</td>\n",
       "    </tr>\n",
       "    <tr>\n",
       "      <th>Sexual Orientation</th>\n",
       "      <td>89</td>\n",
       "    </tr>\n",
       "    <tr>\n",
       "      <th>Gender</th>\n",
       "      <td>31</td>\n",
       "    </tr>\n",
       "    <tr>\n",
       "      <th>Ethnicity/National Origin/Ancestry</th>\n",
       "      <td>22</td>\n",
       "    </tr>\n",
       "    <tr>\n",
       "      <th>Unclassified</th>\n",
       "      <td>5</td>\n",
       "    </tr>\n",
       "    <tr>\n",
       "      <th>Disability</th>\n",
       "      <td>1</td>\n",
       "    </tr>\n",
       "  </tbody>\n",
       "</table>\n",
       "</div>"
      ],
      "text/plain": [
       "                                    Offense_Category\n",
       "Religion/Religious Practice                      393\n",
       "Race/Color                                       170\n",
       "Sexual Orientation                                89\n",
       "Gender                                            31\n",
       "Ethnicity/National Origin/Ancestry                22\n",
       "Unclassified                                       5\n",
       "Disability                                         1"
      ]
     },
     "execution_count": 59,
     "metadata": {},
     "output_type": "execute_result"
    }
   ],
   "source": [
    "value_category"
   ]
  },
  {
   "cell_type": "code",
   "execution_count": 56,
   "id": "757546f5",
   "metadata": {},
   "outputs": [],
   "source": [
    "mask=crime.Offense_Category.value_counts()>20"
   ]
  },
  {
   "cell_type": "code",
   "execution_count": 60,
   "id": "384452d5",
   "metadata": {},
   "outputs": [
    {
     "data": {
      "text/html": [
       "<div>\n",
       "<style scoped>\n",
       "    .dataframe tbody tr th:only-of-type {\n",
       "        vertical-align: middle;\n",
       "    }\n",
       "\n",
       "    .dataframe tbody tr th {\n",
       "        vertical-align: top;\n",
       "    }\n",
       "\n",
       "    .dataframe thead th {\n",
       "        text-align: right;\n",
       "    }\n",
       "</style>\n",
       "<table border=\"1\" class=\"dataframe\">\n",
       "  <thead>\n",
       "    <tr style=\"text-align: right;\">\n",
       "      <th></th>\n",
       "      <th>Offense_Category</th>\n",
       "    </tr>\n",
       "  </thead>\n",
       "  <tbody>\n",
       "    <tr>\n",
       "      <th>Religion/Religious Practice</th>\n",
       "      <td>393</td>\n",
       "    </tr>\n",
       "    <tr>\n",
       "      <th>Race/Color</th>\n",
       "      <td>170</td>\n",
       "    </tr>\n",
       "    <tr>\n",
       "      <th>Sexual Orientation</th>\n",
       "      <td>89</td>\n",
       "    </tr>\n",
       "    <tr>\n",
       "      <th>Gender</th>\n",
       "      <td>31</td>\n",
       "    </tr>\n",
       "    <tr>\n",
       "      <th>Ethnicity/National Origin/Ancestry</th>\n",
       "      <td>22</td>\n",
       "    </tr>\n",
       "  </tbody>\n",
       "</table>\n",
       "</div>"
      ],
      "text/plain": [
       "                                    Offense_Category\n",
       "Religion/Religious Practice                      393\n",
       "Race/Color                                       170\n",
       "Sexual Orientation                                89\n",
       "Gender                                            31\n",
       "Ethnicity/National Origin/Ancestry                22"
      ]
     },
     "execution_count": 60,
     "metadata": {},
     "output_type": "execute_result"
    }
   ],
   "source": [
    "category=value_category[mask]\n",
    "category"
   ]
  },
  {
   "cell_type": "code",
   "execution_count": 100,
   "id": "ce93ec25",
   "metadata": {},
   "outputs": [
    {
     "data": {
      "image/png": "[encoded data removed]",
      "text/plain": [
       "<Figure size 432x288 with 1 Axes>"
      ]
     },
     "metadata": {
      "needs_background": "light"
     },
     "output_type": "display_data"
    }
   ],
   "source": [
    "plt.bar(category.index,category.Offense_Category, color=[\"darkred\", \"indianred\", \"coral\", \"darksalmon\", \"sienna\"])\n",
    "plt.xticks(rotation=45, ha=\"right\");"
   ]
  },
  {
   "cell_type": "code",
   "execution_count": 133,
   "id": "ce04b11b",
   "metadata": {},
   "outputs": [],
   "source": [
    "crm=pd.DataFrame(crime.groupby(['County','Offense_Category'])['County'].count())"
   ]
  },
  {
   "cell_type": "code",
   "execution_count": 34,
   "id": "9679744f",
   "metadata": {},
   "outputs": [
    {
     "data": {
      "text/plain": [
       "Index(['County'], dtype='object')"
      ]
     },
     "execution_count": 34,
     "metadata": {},
     "output_type": "execute_result"
    }
   ],
   "source": [
    "crm.columns"
   ]
  },
  {
   "cell_type": "code",
   "execution_count": 42,
   "id": "ad531629",
   "metadata": {},
   "outputs": [],
   "source": [
    "crm.columns=[\"Count\"]"
   ]
  },
  {
   "cell_type": "code",
   "execution_count": 43,
   "id": "c1e291bc",
   "metadata": {},
   "outputs": [
    {
     "data": {
      "text/html": [
       "<div>\n",
       "<style scoped>\n",
       "    .dataframe tbody tr th:only-of-type {\n",
       "        vertical-align: middle;\n",
       "    }\n",
       "\n",
       "    .dataframe tbody tr th {\n",
       "        vertical-align: top;\n",
       "    }\n",
       "\n",
       "    .dataframe thead th {\n",
       "        text-align: right;\n",
       "    }\n",
       "</style>\n",
       "<table border=\"1\" class=\"dataframe\">\n",
       "  <thead>\n",
       "    <tr style=\"text-align: right;\">\n",
       "      <th></th>\n",
       "      <th></th>\n",
       "      <th>Count</th>\n",
       "    </tr>\n",
       "    <tr>\n",
       "      <th>County</th>\n",
       "      <th>Offense_Category</th>\n",
       "      <th></th>\n",
       "    </tr>\n",
       "  </thead>\n",
       "  <tbody>\n",
       "    <tr>\n",
       "      <th rowspan=\"5\" valign=\"top\">BRONX</th>\n",
       "      <th>Ethnicity/National Origin/Ancestry</th>\n",
       "      <td>2</td>\n",
       "    </tr>\n",
       "    <tr>\n",
       "      <th>Gender</th>\n",
       "      <td>1</td>\n",
       "    </tr>\n",
       "    <tr>\n",
       "      <th>Race/Color</th>\n",
       "      <td>13</td>\n",
       "    </tr>\n",
       "    <tr>\n",
       "      <th>Religion/Religious Practice</th>\n",
       "      <td>24</td>\n",
       "    </tr>\n",
       "    <tr>\n",
       "      <th>Sexual Orientation</th>\n",
       "      <td>5</td>\n",
       "    </tr>\n",
       "    <tr>\n",
       "      <th rowspan=\"6\" valign=\"top\">KINGS</th>\n",
       "      <th>Ethnicity/National Origin/Ancestry</th>\n",
       "      <td>7</td>\n",
       "    </tr>\n",
       "    <tr>\n",
       "      <th>Gender</th>\n",
       "      <td>18</td>\n",
       "    </tr>\n",
       "    <tr>\n",
       "      <th>Race/Color</th>\n",
       "      <td>35</td>\n",
       "    </tr>\n",
       "    <tr>\n",
       "      <th>Religion/Religious Practice</th>\n",
       "      <td>172</td>\n",
       "    </tr>\n",
       "    <tr>\n",
       "      <th>Sexual Orientation</th>\n",
       "      <td>21</td>\n",
       "    </tr>\n",
       "    <tr>\n",
       "      <th>Unclassified</th>\n",
       "      <td>1</td>\n",
       "    </tr>\n",
       "    <tr>\n",
       "      <th rowspan=\"7\" valign=\"top\">NEW YORK</th>\n",
       "      <th>Disability</th>\n",
       "      <td>1</td>\n",
       "    </tr>\n",
       "    <tr>\n",
       "      <th>Ethnicity/National Origin/Ancestry</th>\n",
       "      <td>10</td>\n",
       "    </tr>\n",
       "    <tr>\n",
       "      <th>Gender</th>\n",
       "      <td>3</td>\n",
       "    </tr>\n",
       "    <tr>\n",
       "      <th>Race/Color</th>\n",
       "      <td>89</td>\n",
       "    </tr>\n",
       "    <tr>\n",
       "      <th>Religion/Religious Practice</th>\n",
       "      <td>114</td>\n",
       "    </tr>\n",
       "    <tr>\n",
       "      <th>Sexual Orientation</th>\n",
       "      <td>46</td>\n",
       "    </tr>\n",
       "    <tr>\n",
       "      <th>Unclassified</th>\n",
       "      <td>3</td>\n",
       "    </tr>\n",
       "    <tr>\n",
       "      <th rowspan=\"5\" valign=\"top\">QUEENS</th>\n",
       "      <th>Ethnicity/National Origin/Ancestry</th>\n",
       "      <td>3</td>\n",
       "    </tr>\n",
       "    <tr>\n",
       "      <th>Gender</th>\n",
       "      <td>9</td>\n",
       "    </tr>\n",
       "    <tr>\n",
       "      <th>Race/Color</th>\n",
       "      <td>26</td>\n",
       "    </tr>\n",
       "    <tr>\n",
       "      <th>Religion/Religious Practice</th>\n",
       "      <td>72</td>\n",
       "    </tr>\n",
       "    <tr>\n",
       "      <th>Sexual Orientation</th>\n",
       "      <td>15</td>\n",
       "    </tr>\n",
       "    <tr>\n",
       "      <th rowspan=\"4\" valign=\"top\">RICHMOND</th>\n",
       "      <th>Race/Color</th>\n",
       "      <td>7</td>\n",
       "    </tr>\n",
       "    <tr>\n",
       "      <th>Religion/Religious Practice</th>\n",
       "      <td>11</td>\n",
       "    </tr>\n",
       "    <tr>\n",
       "      <th>Sexual Orientation</th>\n",
       "      <td>2</td>\n",
       "    </tr>\n",
       "    <tr>\n",
       "      <th>Unclassified</th>\n",
       "      <td>1</td>\n",
       "    </tr>\n",
       "  </tbody>\n",
       "</table>\n",
       "</div>"
      ],
      "text/plain": [
       "                                             Count\n",
       "County   Offense_Category                         \n",
       "BRONX    Ethnicity/National Origin/Ancestry      2\n",
       "         Gender                                  1\n",
       "         Race/Color                             13\n",
       "         Religion/Religious Practice            24\n",
       "         Sexual Orientation                      5\n",
       "KINGS    Ethnicity/National Origin/Ancestry      7\n",
       "         Gender                                 18\n",
       "         Race/Color                             35\n",
       "         Religion/Religious Practice           172\n",
       "         Sexual Orientation                     21\n",
       "         Unclassified                            1\n",
       "NEW YORK Disability                              1\n",
       "         Ethnicity/National Origin/Ancestry     10\n",
       "         Gender                                  3\n",
       "         Race/Color                             89\n",
       "         Religion/Religious Practice           114\n",
       "         Sexual Orientation                     46\n",
       "         Unclassified                            3\n",
       "QUEENS   Ethnicity/National Origin/Ancestry      3\n",
       "         Gender                                  9\n",
       "         Race/Color                             26\n",
       "         Religion/Religious Practice            72\n",
       "         Sexual Orientation                     15\n",
       "RICHMOND Race/Color                              7\n",
       "         Religion/Religious Practice            11\n",
       "         Sexual Orientation                      2\n",
       "         Unclassified                            1"
      ]
     },
     "execution_count": 43,
     "metadata": {},
     "output_type": "execute_result"
    }
   ],
   "source": [
    "crm"
   ]
  },
  {
   "cell_type": "code",
   "execution_count": 93,
   "id": "5c5b1737",
   "metadata": {},
   "outputs": [
    {
     "data": {
      "text/html": [
       "<div>\n",
       "<style scoped>\n",
       "    .dataframe tbody tr th:only-of-type {\n",
       "        vertical-align: middle;\n",
       "    }\n",
       "\n",
       "    .dataframe tbody tr th {\n",
       "        vertical-align: top;\n",
       "    }\n",
       "\n",
       "    .dataframe thead tr th {\n",
       "        text-align: left;\n",
       "    }\n",
       "\n",
       "    .dataframe thead tr:last-of-type th {\n",
       "        text-align: right;\n",
       "    }\n",
       "</style>\n",
       "<table border=\"1\" class=\"dataframe\">\n",
       "  <thead>\n",
       "    <tr>\n",
       "      <th></th>\n",
       "      <th colspan=\"7\" halign=\"left\">Count</th>\n",
       "    </tr>\n",
       "    <tr>\n",
       "      <th>Offense_Category</th>\n",
       "      <th>Disability</th>\n",
       "      <th>Ethnicity/National Origin/Ancestry</th>\n",
       "      <th>Gender</th>\n",
       "      <th>Race/Color</th>\n",
       "      <th>Religion/Religious Practice</th>\n",
       "      <th>Sexual Orientation</th>\n",
       "      <th>Unclassified</th>\n",
       "    </tr>\n",
       "    <tr>\n",
       "      <th>County</th>\n",
       "      <th></th>\n",
       "      <th></th>\n",
       "      <th></th>\n",
       "      <th></th>\n",
       "      <th></th>\n",
       "      <th></th>\n",
       "      <th></th>\n",
       "    </tr>\n",
       "  </thead>\n",
       "  <tbody>\n",
       "    <tr>\n",
       "      <th>BRONX</th>\n",
       "      <td>NaN</td>\n",
       "      <td>2.0</td>\n",
       "      <td>1.0</td>\n",
       "      <td>13.0</td>\n",
       "      <td>24.0</td>\n",
       "      <td>5.0</td>\n",
       "      <td>NaN</td>\n",
       "    </tr>\n",
       "    <tr>\n",
       "      <th>KINGS</th>\n",
       "      <td>NaN</td>\n",
       "      <td>7.0</td>\n",
       "      <td>18.0</td>\n",
       "      <td>35.0</td>\n",
       "      <td>172.0</td>\n",
       "      <td>21.0</td>\n",
       "      <td>1.0</td>\n",
       "    </tr>\n",
       "    <tr>\n",
       "      <th>NEW YORK</th>\n",
       "      <td>1.0</td>\n",
       "      <td>10.0</td>\n",
       "      <td>3.0</td>\n",
       "      <td>89.0</td>\n",
       "      <td>114.0</td>\n",
       "      <td>46.0</td>\n",
       "      <td>3.0</td>\n",
       "    </tr>\n",
       "    <tr>\n",
       "      <th>QUEENS</th>\n",
       "      <td>NaN</td>\n",
       "      <td>3.0</td>\n",
       "      <td>9.0</td>\n",
       "      <td>26.0</td>\n",
       "      <td>72.0</td>\n",
       "      <td>15.0</td>\n",
       "      <td>NaN</td>\n",
       "    </tr>\n",
       "    <tr>\n",
       "      <th>RICHMOND</th>\n",
       "      <td>NaN</td>\n",
       "      <td>NaN</td>\n",
       "      <td>NaN</td>\n",
       "      <td>7.0</td>\n",
       "      <td>11.0</td>\n",
       "      <td>2.0</td>\n",
       "      <td>1.0</td>\n",
       "    </tr>\n",
       "  </tbody>\n",
       "</table>\n",
       "</div>"
      ],
      "text/plain": [
       "                      Count                                            \\\n",
       "Offense_Category Disability Ethnicity/National Origin/Ancestry Gender   \n",
       "County                                                                  \n",
       "BRONX                   NaN                                2.0    1.0   \n",
       "KINGS                   NaN                                7.0   18.0   \n",
       "NEW YORK                1.0                               10.0    3.0   \n",
       "QUEENS                  NaN                                3.0    9.0   \n",
       "RICHMOND                NaN                                NaN    NaN   \n",
       "\n",
       "                                                                            \\\n",
       "Offense_Category Race/Color Religion/Religious Practice Sexual Orientation   \n",
       "County                                                                       \n",
       "BRONX                  13.0                        24.0                5.0   \n",
       "KINGS                  35.0                       172.0               21.0   \n",
       "NEW YORK               89.0                       114.0               46.0   \n",
       "QUEENS                 26.0                        72.0               15.0   \n",
       "RICHMOND                7.0                        11.0                2.0   \n",
       "\n",
       "                               \n",
       "Offense_Category Unclassified  \n",
       "County                         \n",
       "BRONX                     NaN  \n",
       "KINGS                     1.0  \n",
       "NEW YORK                  3.0  \n",
       "QUEENS                    NaN  \n",
       "RICHMOND                  1.0  "
      ]
     },
     "execution_count": 93,
     "metadata": {},
     "output_type": "execute_result"
    }
   ],
   "source": [
    "table = pd.pivot_table(crm,index=['County'],columns=['Offense_Category'],values=['Count'],aggfunc=np.sum)\n",
    "table"
   ]
  },
  {
   "cell_type": "code",
   "execution_count": 94,
   "id": "0dab172c",
   "metadata": {},
   "outputs": [
    {
     "data": {
      "text/html": [
       "<div>\n",
       "<style scoped>\n",
       "    .dataframe tbody tr th:only-of-type {\n",
       "        vertical-align: middle;\n",
       "    }\n",
       "\n",
       "    .dataframe tbody tr th {\n",
       "        vertical-align: top;\n",
       "    }\n",
       "\n",
       "    .dataframe thead tr th {\n",
       "        text-align: left;\n",
       "    }\n",
       "\n",
       "    .dataframe thead tr:last-of-type th {\n",
       "        text-align: right;\n",
       "    }\n",
       "</style>\n",
       "<table border=\"1\" class=\"dataframe\">\n",
       "  <thead>\n",
       "    <tr>\n",
       "      <th></th>\n",
       "      <th colspan=\"5\" halign=\"left\">Count</th>\n",
       "    </tr>\n",
       "    <tr>\n",
       "      <th>Offense_Category</th>\n",
       "      <th>Ethnicity/National Origin/Ancestry</th>\n",
       "      <th>Gender</th>\n",
       "      <th>Race/Color</th>\n",
       "      <th>Religion/Religious Practice</th>\n",
       "      <th>Sexual Orientation</th>\n",
       "    </tr>\n",
       "    <tr>\n",
       "      <th>County</th>\n",
       "      <th></th>\n",
       "      <th></th>\n",
       "      <th></th>\n",
       "      <th></th>\n",
       "      <th></th>\n",
       "    </tr>\n",
       "  </thead>\n",
       "  <tbody>\n",
       "    <tr>\n",
       "      <th>BRONX</th>\n",
       "      <td>2.0</td>\n",
       "      <td>1.0</td>\n",
       "      <td>13.0</td>\n",
       "      <td>24.0</td>\n",
       "      <td>5.0</td>\n",
       "    </tr>\n",
       "    <tr>\n",
       "      <th>KINGS</th>\n",
       "      <td>7.0</td>\n",
       "      <td>18.0</td>\n",
       "      <td>35.0</td>\n",
       "      <td>172.0</td>\n",
       "      <td>21.0</td>\n",
       "    </tr>\n",
       "    <tr>\n",
       "      <th>NEW YORK</th>\n",
       "      <td>10.0</td>\n",
       "      <td>3.0</td>\n",
       "      <td>89.0</td>\n",
       "      <td>114.0</td>\n",
       "      <td>46.0</td>\n",
       "    </tr>\n",
       "    <tr>\n",
       "      <th>QUEENS</th>\n",
       "      <td>3.0</td>\n",
       "      <td>9.0</td>\n",
       "      <td>26.0</td>\n",
       "      <td>72.0</td>\n",
       "      <td>15.0</td>\n",
       "    </tr>\n",
       "    <tr>\n",
       "      <th>RICHMOND</th>\n",
       "      <td>NaN</td>\n",
       "      <td>NaN</td>\n",
       "      <td>7.0</td>\n",
       "      <td>11.0</td>\n",
       "      <td>2.0</td>\n",
       "    </tr>\n",
       "  </tbody>\n",
       "</table>\n",
       "</div>"
      ],
      "text/plain": [
       "                                              Count                    \\\n",
       "Offense_Category Ethnicity/National Origin/Ancestry Gender Race/Color   \n",
       "County                                                                  \n",
       "BRONX                                           2.0    1.0       13.0   \n",
       "KINGS                                           7.0   18.0       35.0   \n",
       "NEW YORK                                       10.0    3.0       89.0   \n",
       "QUEENS                                          3.0    9.0       26.0   \n",
       "RICHMOND                                        NaN    NaN        7.0   \n",
       "\n",
       "                                                                 \n",
       "Offense_Category Religion/Religious Practice Sexual Orientation  \n",
       "County                                                           \n",
       "BRONX                                   24.0                5.0  \n",
       "KINGS                                  172.0               21.0  \n",
       "NEW YORK                               114.0               46.0  \n",
       "QUEENS                                  72.0               15.0  \n",
       "RICHMOND                                11.0                2.0  "
      ]
     },
     "execution_count": 94,
     "metadata": {},
     "output_type": "execute_result"
    }
   ],
   "source": [
    "table.drop(table.columns[[0,6]], axis=1, inplace=True)\n",
    "table"
   ]
  },
  {
   "cell_type": "code",
   "execution_count": null,
   "id": "c0faaaac",
   "metadata": {},
   "outputs": [],
   "source": [
    "null_df = pd.DataFrame([])"
   ]
  },
  {
   "cell_type": "code",
   "execution_count": null,
   "id": "d1448351",
   "metadata": {},
   "outputs": [],
   "source": []
  },
  {
   "cell_type": "code",
   "execution_count": 130,
   "id": "b7bdaa27",
   "metadata": {},
   "outputs": [
    {
     "data": {
      "text/plain": [
       "<matplotlib.legend.Legend at 0x1878e0fed60>"
      ]
     },
     "execution_count": 130,
     "metadata": {},
     "output_type": "execute_result"
    },
    {
     "data": {
      "image/png": "[encoded data removed]",
      "text/plain": [
       "<Figure size 720x576 with 1 Axes>"
      ]
     },
     "metadata": {
      "needs_background": "light"
     },
     "output_type": "display_data"
    }
   ],
   "source": [
    "table.plot(kind=\"bar\", figsize=(10, 8),zorder=2, width=0.85).legend(['Ethnicity', 'Gender', 'Race/Color', 'Religion','Sexual orientation'], loc='upper right')"
   ]
  },
  {
   "cell_type": "code",
   "execution_count": null,
   "id": "7e1bebc7",
   "metadata": {},
   "outputs": [],
   "source": []
  }
 ],
 "metadata": {
  "kernelspec": {
   "display_name": "Python 3 (ipykernel)",
   "language": "python",
   "name": "python3"
  },
  "language_info": {
   "codemirror_mode": {
    "name": "ipython",
    "version": 3
   },
   "file_extension": ".py",
   "mimetype": "text/x-python",
   "name": "python",
   "nbconvert_exporter": "python",
   "pygments_lexer": "ipython3",
   "version": "3.9.7"
  }
 },
 "nbformat": 4,
 "nbformat_minor": 5
}
